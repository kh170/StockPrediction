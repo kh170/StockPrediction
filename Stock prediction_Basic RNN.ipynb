{
 "cells": [
  {
   "cell_type": "code",
   "execution_count": 1,
   "metadata": {
    "collapsed": true
   },
   "outputs": [],
   "source": [
    "import pandas as pd\n",
    "import numpy as np\n",
    "import matplotlib.pyplot as plt\n",
    "import math, time\n",
    "from sklearn.metrics import mean_squared_error"
   ]
  },
  {
   "cell_type": "code",
   "execution_count": 2,
   "metadata": {
    "collapsed": true
   },
   "outputs": [],
   "source": [
    "# Importing the Keras libraries and packages\n",
    "from keras.models import Sequential\n",
    "from keras.layers import Dense\n",
    "from keras.layers import SimpleRNN\n",
    "from keras.layers import Dropout"
   ]
  },
  {
   "cell_type": "code",
   "execution_count": 3,
   "metadata": {
    "collapsed": true
   },
   "outputs": [],
   "source": [
    "path = r\"C:\\Users\\Angeliki\\Anaconda3\\1Sadia\\My work\\Data\"\n",
    "rpath = r\"C:\\Users\\Angeliki\\Anaconda3\\1Sadia\\My work\\Results\""
   ]
  },
  {
   "cell_type": "code",
   "execution_count": 4,
   "metadata": {
    "collapsed": true
   },
   "outputs": [],
   "source": [
    "data = pd.read_csv(path+\"/Netflix dataset.csv\")\n",
    "data['Date'] = pd.to_datetime(data['Date'])\n",
    "data = data.drop('Close',axis=1)"
   ]
  },
  {
   "cell_type": "markdown",
   "metadata": {},
   "source": [
    "Normalizing the data"
   ]
  },
  {
   "cell_type": "code",
   "execution_count": 5,
   "metadata": {
    "scrolled": true
   },
   "outputs": [
    {
     "data": {
      "text/html": [
       "<div>\n",
       "<style scoped>\n",
       "    .dataframe tbody tr th:only-of-type {\n",
       "        vertical-align: middle;\n",
       "    }\n",
       "\n",
       "    .dataframe tbody tr th {\n",
       "        vertical-align: top;\n",
       "    }\n",
       "\n",
       "    .dataframe thead th {\n",
       "        text-align: right;\n",
       "    }\n",
       "</style>\n",
       "<table border=\"1\" class=\"dataframe\">\n",
       "  <thead>\n",
       "    <tr style=\"text-align: right;\">\n",
       "      <th></th>\n",
       "      <th>Open</th>\n",
       "      <th>High</th>\n",
       "      <th>Low</th>\n",
       "      <th>Volume</th>\n",
       "      <th>Adj Close</th>\n",
       "    </tr>\n",
       "  </thead>\n",
       "  <tbody>\n",
       "    <tr>\n",
       "      <th>0</th>\n",
       "      <td>0.061253</td>\n",
       "      <td>0.038304</td>\n",
       "      <td>0.041331</td>\n",
       "      <td>0.186150</td>\n",
       "      <td>0.044516</td>\n",
       "    </tr>\n",
       "    <tr>\n",
       "      <th>1</th>\n",
       "      <td>0.030059</td>\n",
       "      <td>0.035640</td>\n",
       "      <td>0.030273</td>\n",
       "      <td>0.198264</td>\n",
       "      <td>0.069548</td>\n",
       "    </tr>\n",
       "    <tr>\n",
       "      <th>2</th>\n",
       "      <td>0.071243</td>\n",
       "      <td>0.048408</td>\n",
       "      <td>0.072770</td>\n",
       "      <td>0.135690</td>\n",
       "      <td>0.067015</td>\n",
       "    </tr>\n",
       "    <tr>\n",
       "      <th>3</th>\n",
       "      <td>0.072334</td>\n",
       "      <td>0.037683</td>\n",
       "      <td>0.041265</td>\n",
       "      <td>0.141320</td>\n",
       "      <td>0.035430</td>\n",
       "    </tr>\n",
       "    <tr>\n",
       "      <th>4</th>\n",
       "      <td>0.043474</td>\n",
       "      <td>0.011436</td>\n",
       "      <td>0.010729</td>\n",
       "      <td>0.272902</td>\n",
       "      <td>0.034053</td>\n",
       "    </tr>\n",
       "  </tbody>\n",
       "</table>\n",
       "</div>"
      ],
      "text/plain": [
       "       Open      High       Low    Volume  Adj Close\n",
       "0  0.061253  0.038304  0.041331  0.186150   0.044516\n",
       "1  0.030059  0.035640  0.030273  0.198264   0.069548\n",
       "2  0.071243  0.048408  0.072770  0.135690   0.067015\n",
       "3  0.072334  0.037683  0.041265  0.141320   0.035430\n",
       "4  0.043474  0.011436  0.010729  0.272902   0.034053"
      ]
     },
     "execution_count": 5,
     "metadata": {},
     "output_type": "execute_result"
    }
   ],
   "source": [
    "# Normalizing the train data\n",
    "from sklearn.preprocessing import MinMaxScaler\n",
    "def normalize_data(df,y=[],denormalize = 0):\n",
    "    min_max_scaler = MinMaxScaler()\n",
    "    df['Open'] = min_max_scaler.fit_transform(df.Open.values.reshape(-1,1))\n",
    "    df['High'] = min_max_scaler.fit_transform(df.High.values.reshape(-1,1))\n",
    "    df['Low'] = min_max_scaler.fit_transform(df.Low.values.reshape(-1,1))\n",
    "    df['Volume'] = min_max_scaler.fit_transform(df.Volume.values.reshape(-1,1))\n",
    "    df['Adj Close'] = min_max_scaler.fit_transform(df['Adj Close'].values.reshape(-1,1))\n",
    "    if denormalize == 1:\n",
    "        df['Adj Close'] = min_max_scaler.fit_transform(df['Adj Close'].values.reshape(-1,1))\n",
    "        denormalized_output = min_max_scaler.inverse_transform(y)\n",
    "        return denormalized_output\n",
    "    return df\n",
    "data_normalized = normalize_data(data)[[\"Open\",\"High\",\"Low\",\"Volume\",\"Adj Close\"]]\n",
    "data_normalized.head(5)"
   ]
  },
  {
   "cell_type": "code",
   "execution_count": 6,
   "metadata": {
    "collapsed": true
   },
   "outputs": [],
   "source": [
    "def load_data(stock, seq_len, split_percent):\n",
    "    amount_of_features = len(stock.columns) # 5\n",
    "    data =stock.values \n",
    "    sequence_length = seq_len + 1 # index starting from 0\n",
    "    result = []\n",
    "    \n",
    "    for index in range(len(data) - sequence_length): # maxmimum date = lastest date - sequence length\n",
    "        result.append(data[index: index + sequence_length]) # index : index + 22days\n",
    "    \n",
    "    result = np.array(result)\n",
    "    row = round(split_percent * result.shape[0]) # 80% split\n",
    "    train = result[:int(row), :] # 80% date, all features \n",
    "    \n",
    "    x_train = train[:, :-1] \n",
    "    y_train = train[:, -1][:,-1]\n",
    "    \n",
    "    x_test = result[int(row):, :-1] \n",
    "    y_test = result[int(row):, -1][:,-1]\n",
    "\n",
    "    x_train = np.reshape(x_train, (x_train.shape[0], x_train.shape[1], amount_of_features))\n",
    "    x_test = np.reshape(x_test, (x_test.shape[0], x_test.shape[1], amount_of_features))  \n",
    "\n",
    "    return [x_train, y_train, x_test, y_test]\n",
    "\n",
    "\n",
    "def build_model(layers):\n",
    "    model = Sequential()\n",
    "    model.add(SimpleRNN(128, return_sequences=True, input_shape=(layers[1], layers[0])))\n",
    "    model.add(SimpleRNN(64, return_sequences=False))\n",
    "    model.add(Dense(25))\n",
    "    model.add(Dense(1))\n",
    "        # adam = keras.optimizers.Adam(decay=0.2)\n",
    "        \n",
    "    start = time.time()\n",
    "    model.compile(loss='mse',optimizer='adam', metrics=['accuracy'])\n",
    "    print(\"Compilation Time : \", time.time() - start)\n",
    "    return model"
   ]
  },
  {
   "cell_type": "markdown",
   "metadata": {},
   "source": [
    "Train test split"
   ]
  },
  {
   "cell_type": "code",
   "execution_count": 7,
   "metadata": {
    "collapsed": true
   },
   "outputs": [],
   "source": [
    "window = 10\n",
    "split_percent = 0.8\n",
    "X_train, y_train, X_test, y_test = load_data(data_normalized,window,split_percent)\n"
   ]
  },
  {
   "cell_type": "markdown",
   "metadata": {},
   "source": [
    "Building the model and training it"
   ]
  },
  {
   "cell_type": "code",
   "execution_count": 8,
   "metadata": {
    "scrolled": true
   },
   "outputs": [
    {
     "name": "stdout",
     "output_type": "stream",
     "text": [
      "Compilation Time :  0.01562190055847168\n",
      "Epoch 1/100\n",
      "12/12 [==============================] - 1s 31ms/step - loss: 0.5283 - accuracy: 0.0000e+00 - val_loss: 0.1587 - val_accuracy: 0.0000e+00\n",
      "Epoch 2/100\n",
      "12/12 [==============================] - 0s 6ms/step - loss: 0.0424 - accuracy: 0.0014 - val_loss: 0.0795 - val_accuracy: 0.0000e+00\n",
      "Epoch 3/100\n",
      "12/12 [==============================] - 0s 6ms/step - loss: 0.0168 - accuracy: 0.0014 - val_loss: 0.0382 - val_accuracy: 0.0000e+00\n",
      "Epoch 4/100\n",
      "12/12 [==============================] - 0s 6ms/step - loss: 0.0078 - accuracy: 0.0014 - val_loss: 0.0120 - val_accuracy: 0.0000e+00\n",
      "Epoch 5/100\n",
      "12/12 [==============================] - 0s 6ms/step - loss: 0.0042 - accuracy: 0.0014 - val_loss: 0.0056 - val_accuracy: 0.0000e+00\n",
      "Epoch 6/100\n",
      "12/12 [==============================] - 0s 5ms/step - loss: 0.0030 - accuracy: 0.0014 - val_loss: 0.0037 - val_accuracy: 0.0000e+00\n",
      "Epoch 7/100\n",
      "12/12 [==============================] - 0s 6ms/step - loss: 0.0023 - accuracy: 0.0014 - val_loss: 0.0027 - val_accuracy: 0.0000e+00\n",
      "Epoch 8/100\n",
      "12/12 [==============================] - 0s 5ms/step - loss: 0.0021 - accuracy: 0.0014 - val_loss: 0.0025 - val_accuracy: 0.0000e+00\n",
      "Epoch 9/100\n",
      "12/12 [==============================] - 0s 5ms/step - loss: 0.0017 - accuracy: 0.0014 - val_loss: 0.0027 - val_accuracy: 0.0000e+00\n",
      "Epoch 10/100\n",
      "12/12 [==============================] - 0s 6ms/step - loss: 0.0016 - accuracy: 0.0014 - val_loss: 0.0024 - val_accuracy: 0.0000e+00\n",
      "Epoch 11/100\n",
      "12/12 [==============================] - 0s 5ms/step - loss: 0.0014 - accuracy: 0.0014 - val_loss: 0.0022 - val_accuracy: 0.0000e+00\n",
      "Epoch 12/100\n",
      "12/12 [==============================] - 0s 6ms/step - loss: 0.0013 - accuracy: 0.0014 - val_loss: 0.0024 - val_accuracy: 0.0000e+00\n",
      "Epoch 13/100\n",
      "12/12 [==============================] - 0s 5ms/step - loss: 0.0013 - accuracy: 0.0014 - val_loss: 0.0025 - val_accuracy: 0.0000e+00\n",
      "Epoch 14/100\n",
      "12/12 [==============================] - 0s 5ms/step - loss: 0.0013 - accuracy: 0.0014 - val_loss: 0.0019 - val_accuracy: 0.0000e+00\n",
      "Epoch 15/100\n",
      "12/12 [==============================] - 0s 5ms/step - loss: 0.0012 - accuracy: 0.0014 - val_loss: 0.0019 - val_accuracy: 0.0000e+00\n",
      "Epoch 16/100\n",
      "12/12 [==============================] - 0s 5ms/step - loss: 0.0013 - accuracy: 0.0014 - val_loss: 0.0022 - val_accuracy: 0.0000e+00\n",
      "Epoch 17/100\n",
      "12/12 [==============================] - 0s 6ms/step - loss: 0.0012 - accuracy: 0.0014 - val_loss: 0.0024 - val_accuracy: 0.0000e+00\n",
      "Epoch 18/100\n",
      "12/12 [==============================] - 0s 4ms/step - loss: 0.0011 - accuracy: 0.0014 - val_loss: 0.0019 - val_accuracy: 0.0000e+00\n",
      "Epoch 19/100\n",
      "12/12 [==============================] - 0s 4ms/step - loss: 9.9250e-04 - accuracy: 0.0014 - val_loss: 0.0020 - val_accuracy: 0.0000e+00\n",
      "Epoch 20/100\n",
      "12/12 [==============================] - 0s 4ms/step - loss: 9.9446e-04 - accuracy: 0.0014 - val_loss: 0.0017 - val_accuracy: 0.0000e+00\n",
      "Epoch 21/100\n",
      "12/12 [==============================] - 0s 4ms/step - loss: 9.5983e-04 - accuracy: 0.0014 - val_loss: 0.0017 - val_accuracy: 0.0000e+00\n",
      "Epoch 22/100\n",
      "12/12 [==============================] - 0s 5ms/step - loss: 9.4272e-04 - accuracy: 0.0014 - val_loss: 0.0016 - val_accuracy: 0.0000e+00\n",
      "Epoch 23/100\n",
      "12/12 [==============================] - 0s 5ms/step - loss: 9.4340e-04 - accuracy: 0.0014 - val_loss: 0.0023 - val_accuracy: 0.0000e+00\n",
      "Epoch 24/100\n",
      "12/12 [==============================] - 0s 5ms/step - loss: 0.0010 - accuracy: 0.0014 - val_loss: 0.0017 - val_accuracy: 0.0000e+00\n",
      "Epoch 25/100\n",
      "12/12 [==============================] - 0s 5ms/step - loss: 9.1529e-04 - accuracy: 0.0014 - val_loss: 0.0023 - val_accuracy: 0.0000e+00\n",
      "Epoch 26/100\n",
      "12/12 [==============================] - 0s 5ms/step - loss: 9.5686e-04 - accuracy: 0.0014 - val_loss: 0.0016 - val_accuracy: 0.0000e+00\n",
      "Epoch 27/100\n",
      "12/12 [==============================] - 0s 5ms/step - loss: 9.4558e-04 - accuracy: 0.0014 - val_loss: 0.0018 - val_accuracy: 0.0000e+00\n",
      "Epoch 28/100\n",
      "12/12 [==============================] - 0s 6ms/step - loss: 8.0792e-04 - accuracy: 0.0014 - val_loss: 0.0015 - val_accuracy: 0.0000e+00\n",
      "Epoch 29/100\n",
      "12/12 [==============================] - 0s 6ms/step - loss: 7.9042e-04 - accuracy: 0.0014 - val_loss: 0.0015 - val_accuracy: 0.0000e+00\n",
      "Epoch 30/100\n",
      "12/12 [==============================] - 0s 5ms/step - loss: 7.9939e-04 - accuracy: 0.0014 - val_loss: 0.0015 - val_accuracy: 0.0000e+00\n",
      "Epoch 31/100\n",
      "12/12 [==============================] - 0s 5ms/step - loss: 7.4699e-04 - accuracy: 0.0014 - val_loss: 0.0017 - val_accuracy: 0.0000e+00\n",
      "Epoch 32/100\n",
      "12/12 [==============================] - 0s 5ms/step - loss: 7.8507e-04 - accuracy: 0.0014 - val_loss: 0.0014 - val_accuracy: 0.0000e+00\n",
      "Epoch 33/100\n",
      "12/12 [==============================] - 0s 5ms/step - loss: 8.1706e-04 - accuracy: 0.0014 - val_loss: 0.0015 - val_accuracy: 0.0000e+00\n",
      "Epoch 34/100\n",
      "12/12 [==============================] - 0s 5ms/step - loss: 7.6570e-04 - accuracy: 0.0014 - val_loss: 0.0016 - val_accuracy: 0.0000e+00\n",
      "Epoch 35/100\n",
      "12/12 [==============================] - 0s 4ms/step - loss: 7.1494e-04 - accuracy: 0.0014 - val_loss: 0.0013 - val_accuracy: 0.0000e+00\n",
      "Epoch 36/100\n",
      "12/12 [==============================] - 0s 5ms/step - loss: 6.7804e-04 - accuracy: 0.0014 - val_loss: 0.0013 - val_accuracy: 0.0000e+00\n",
      "Epoch 37/100\n",
      "12/12 [==============================] - 0s 4ms/step - loss: 6.7631e-04 - accuracy: 0.0014 - val_loss: 0.0013 - val_accuracy: 0.0000e+00\n",
      "Epoch 38/100\n",
      "12/12 [==============================] - 0s 4ms/step - loss: 6.7030e-04 - accuracy: 0.0014 - val_loss: 0.0013 - val_accuracy: 0.0000e+00\n",
      "Epoch 39/100\n",
      "12/12 [==============================] - 0s 5ms/step - loss: 6.8314e-04 - accuracy: 0.0014 - val_loss: 0.0013 - val_accuracy: 0.0000e+00\n",
      "Epoch 40/100\n",
      "12/12 [==============================] - 0s 5ms/step - loss: 6.4766e-04 - accuracy: 0.0014 - val_loss: 0.0013 - val_accuracy: 0.0000e+00\n",
      "Epoch 41/100\n",
      "12/12 [==============================] - 0s 4ms/step - loss: 6.4562e-04 - accuracy: 0.0014 - val_loss: 0.0013 - val_accuracy: 0.0000e+00\n",
      "Epoch 42/100\n",
      "12/12 [==============================] - 0s 4ms/step - loss: 6.7872e-04 - accuracy: 0.0014 - val_loss: 0.0013 - val_accuracy: 0.0000e+00\n",
      "Epoch 43/100\n",
      "12/12 [==============================] - 0s 4ms/step - loss: 6.2868e-04 - accuracy: 0.0014 - val_loss: 0.0012 - val_accuracy: 0.0000e+00\n",
      "Epoch 44/100\n",
      "12/12 [==============================] - 0s 5ms/step - loss: 6.6361e-04 - accuracy: 0.0014 - val_loss: 0.0013 - val_accuracy: 0.0000e+00\n",
      "Epoch 45/100\n",
      "12/12 [==============================] - 0s 6ms/step - loss: 7.0145e-04 - accuracy: 0.0014 - val_loss: 0.0013 - val_accuracy: 0.0000e+00\n",
      "Epoch 46/100\n",
      "12/12 [==============================] - 0s 5ms/step - loss: 6.1918e-04 - accuracy: 0.0014 - val_loss: 0.0014 - val_accuracy: 0.0000e+00\n",
      "Epoch 47/100\n",
      "12/12 [==============================] - 0s 5ms/step - loss: 6.8633e-04 - accuracy: 0.0014 - val_loss: 0.0013 - val_accuracy: 0.0000e+00\n",
      "Epoch 48/100\n",
      "12/12 [==============================] - 0s 5ms/step - loss: 6.0669e-04 - accuracy: 0.0014 - val_loss: 0.0013 - val_accuracy: 0.0000e+00\n",
      "Epoch 49/100\n",
      "12/12 [==============================] - 0s 5ms/step - loss: 6.3542e-04 - accuracy: 0.0014 - val_loss: 0.0012 - val_accuracy: 0.0000e+00\n",
      "Epoch 50/100\n",
      "12/12 [==============================] - 0s 5ms/step - loss: 6.0538e-04 - accuracy: 0.0014 - val_loss: 0.0012 - val_accuracy: 0.0000e+00\n",
      "Epoch 51/100\n",
      "12/12 [==============================] - 0s 5ms/step - loss: 6.2587e-04 - accuracy: 0.0014 - val_loss: 0.0012 - val_accuracy: 0.0000e+00\n",
      "Epoch 52/100\n",
      "12/12 [==============================] - 0s 5ms/step - loss: 6.2061e-04 - accuracy: 0.0014 - val_loss: 0.0014 - val_accuracy: 0.0000e+00\n",
      "Epoch 53/100\n",
      "12/12 [==============================] - 0s 5ms/step - loss: 6.3018e-04 - accuracy: 0.0014 - val_loss: 0.0014 - val_accuracy: 0.0000e+00\n",
      "Epoch 54/100\n",
      "12/12 [==============================] - 0s 5ms/step - loss: 7.8288e-04 - accuracy: 0.0014 - val_loss: 0.0014 - val_accuracy: 0.0000e+00\n",
      "Epoch 55/100\n",
      "12/12 [==============================] - 0s 5ms/step - loss: 7.5159e-04 - accuracy: 0.0014 - val_loss: 0.0013 - val_accuracy: 0.0000e+00\n"
     ]
    },
    {
     "name": "stdout",
     "output_type": "stream",
     "text": [
      "Epoch 56/100\n",
      "12/12 [==============================] - 0s 5ms/step - loss: 8.6575e-04 - accuracy: 0.0014 - val_loss: 0.0014 - val_accuracy: 0.0000e+00\n",
      "Epoch 57/100\n",
      "12/12 [==============================] - 0s 5ms/step - loss: 7.1335e-04 - accuracy: 0.0014 - val_loss: 0.0013 - val_accuracy: 0.0000e+00\n",
      "Epoch 58/100\n",
      "12/12 [==============================] - 0s 5ms/step - loss: 5.9178e-04 - accuracy: 0.0014 - val_loss: 0.0012 - val_accuracy: 0.0000e+00\n",
      "Epoch 59/100\n",
      "12/12 [==============================] - 0s 5ms/step - loss: 6.0848e-04 - accuracy: 0.0014 - val_loss: 0.0013 - val_accuracy: 0.0000e+00\n",
      "Epoch 60/100\n",
      "12/12 [==============================] - 0s 5ms/step - loss: 6.5317e-04 - accuracy: 0.0014 - val_loss: 0.0013 - val_accuracy: 0.0000e+00\n",
      "Epoch 61/100\n",
      "12/12 [==============================] - 0s 5ms/step - loss: 5.5880e-04 - accuracy: 0.0014 - val_loss: 0.0015 - val_accuracy: 0.0000e+00\n",
      "Epoch 62/100\n",
      "12/12 [==============================] - 0s 5ms/step - loss: 7.6868e-04 - accuracy: 0.0014 - val_loss: 0.0015 - val_accuracy: 0.0000e+00\n",
      "Epoch 63/100\n",
      "12/12 [==============================] - 0s 5ms/step - loss: 7.1625e-04 - accuracy: 0.0014 - val_loss: 0.0012 - val_accuracy: 0.0000e+00\n",
      "Epoch 64/100\n",
      "12/12 [==============================] - 0s 5ms/step - loss: 6.0041e-04 - accuracy: 0.0014 - val_loss: 0.0012 - val_accuracy: 0.0000e+00\n",
      "Epoch 65/100\n",
      "12/12 [==============================] - 0s 5ms/step - loss: 5.6121e-04 - accuracy: 0.0014 - val_loss: 0.0012 - val_accuracy: 0.0000e+00\n",
      "Epoch 66/100\n",
      "12/12 [==============================] - 0s 5ms/step - loss: 5.4509e-04 - accuracy: 0.0014 - val_loss: 0.0012 - val_accuracy: 0.0000e+00\n",
      "Epoch 67/100\n",
      "12/12 [==============================] - 0s 5ms/step - loss: 5.1676e-04 - accuracy: 0.0014 - val_loss: 0.0011 - val_accuracy: 0.0000e+00\n",
      "Epoch 68/100\n",
      "12/12 [==============================] - 0s 6ms/step - loss: 5.4720e-04 - accuracy: 0.0014 - val_loss: 0.0012 - val_accuracy: 0.0000e+00\n",
      "Epoch 69/100\n",
      "12/12 [==============================] - 0s 6ms/step - loss: 5.2484e-04 - accuracy: 0.0014 - val_loss: 0.0011 - val_accuracy: 0.0000e+00\n",
      "Epoch 70/100\n",
      "12/12 [==============================] - 0s 7ms/step - loss: 4.9331e-04 - accuracy: 0.0014 - val_loss: 0.0012 - val_accuracy: 0.0000e+00\n",
      "Epoch 71/100\n",
      "12/12 [==============================] - 0s 5ms/step - loss: 5.2216e-04 - accuracy: 0.0014 - val_loss: 0.0014 - val_accuracy: 0.0000e+00\n",
      "Epoch 72/100\n",
      "12/12 [==============================] - 0s 5ms/step - loss: 5.3250e-04 - accuracy: 0.0014 - val_loss: 0.0017 - val_accuracy: 0.0000e+00\n",
      "Epoch 73/100\n",
      "12/12 [==============================] - 0s 5ms/step - loss: 5.6971e-04 - accuracy: 0.0014 - val_loss: 0.0011 - val_accuracy: 0.0000e+00\n",
      "Epoch 74/100\n",
      "12/12 [==============================] - 0s 5ms/step - loss: 5.4717e-04 - accuracy: 0.0014 - val_loss: 0.0012 - val_accuracy: 0.0000e+00\n",
      "Epoch 75/100\n",
      "12/12 [==============================] - 0s 5ms/step - loss: 5.3763e-04 - accuracy: 0.0014 - val_loss: 0.0013 - val_accuracy: 0.0000e+00\n",
      "Epoch 76/100\n",
      "12/12 [==============================] - 0s 5ms/step - loss: 7.0811e-04 - accuracy: 0.0014 - val_loss: 0.0016 - val_accuracy: 0.0000e+00\n",
      "Epoch 77/100\n",
      "12/12 [==============================] - 0s 5ms/step - loss: 5.7933e-04 - accuracy: 0.0014 - val_loss: 0.0011 - val_accuracy: 0.0000e+00\n",
      "Epoch 78/100\n",
      "12/12 [==============================] - 0s 5ms/step - loss: 5.0957e-04 - accuracy: 0.0014 - val_loss: 0.0012 - val_accuracy: 0.0000e+00\n",
      "Epoch 79/100\n",
      "12/12 [==============================] - 0s 5ms/step - loss: 5.5157e-04 - accuracy: 0.0014 - val_loss: 0.0013 - val_accuracy: 0.0000e+00\n",
      "Epoch 80/100\n",
      "12/12 [==============================] - 0s 5ms/step - loss: 5.5766e-04 - accuracy: 0.0014 - val_loss: 0.0014 - val_accuracy: 0.0000e+00\n",
      "Epoch 81/100\n",
      "12/12 [==============================] - 0s 5ms/step - loss: 5.9596e-04 - accuracy: 0.0014 - val_loss: 0.0014 - val_accuracy: 0.0000e+00\n",
      "Epoch 82/100\n",
      "12/12 [==============================] - 0s 5ms/step - loss: 5.8589e-04 - accuracy: 0.0014 - val_loss: 0.0011 - val_accuracy: 0.0000e+00\n",
      "Epoch 83/100\n",
      "12/12 [==============================] - 0s 5ms/step - loss: 6.0892e-04 - accuracy: 0.0014 - val_loss: 0.0018 - val_accuracy: 0.0000e+00\n",
      "Epoch 84/100\n",
      "12/12 [==============================] - 0s 5ms/step - loss: 6.7313e-04 - accuracy: 0.0014 - val_loss: 0.0014 - val_accuracy: 0.0000e+00\n",
      "Epoch 85/100\n",
      "12/12 [==============================] - 0s 5ms/step - loss: 5.5802e-04 - accuracy: 0.0014 - val_loss: 0.0013 - val_accuracy: 0.0000e+00\n",
      "Epoch 86/100\n",
      "12/12 [==============================] - 0s 5ms/step - loss: 5.6506e-04 - accuracy: 0.0014 - val_loss: 0.0011 - val_accuracy: 0.0000e+00\n",
      "Epoch 87/100\n",
      "12/12 [==============================] - 0s 5ms/step - loss: 6.4907e-04 - accuracy: 0.0014 - val_loss: 0.0013 - val_accuracy: 0.0000e+00\n",
      "Epoch 88/100\n",
      "12/12 [==============================] - 0s 5ms/step - loss: 5.2357e-04 - accuracy: 0.0014 - val_loss: 0.0012 - val_accuracy: 0.0000e+00\n",
      "Epoch 89/100\n",
      "12/12 [==============================] - 0s 6ms/step - loss: 5.5475e-04 - accuracy: 0.0014 - val_loss: 0.0011 - val_accuracy: 0.0000e+00\n",
      "Epoch 90/100\n",
      "12/12 [==============================] - 0s 4ms/step - loss: 5.1161e-04 - accuracy: 0.0014 - val_loss: 0.0014 - val_accuracy: 0.0000e+00\n",
      "Epoch 91/100\n",
      "12/12 [==============================] - 0s 6ms/step - loss: 4.8728e-04 - accuracy: 0.0014 - val_loss: 0.0011 - val_accuracy: 0.0000e+00\n",
      "Epoch 92/100\n",
      "12/12 [==============================] - 0s 5ms/step - loss: 5.4332e-04 - accuracy: 0.0014 - val_loss: 0.0011 - val_accuracy: 0.0000e+00\n",
      "Epoch 93/100\n",
      "12/12 [==============================] - 0s 4ms/step - loss: 7.2440e-04 - accuracy: 0.0014 - val_loss: 0.0016 - val_accuracy: 0.0000e+00\n",
      "Epoch 94/100\n",
      "12/12 [==============================] - 0s 5ms/step - loss: 6.0033e-04 - accuracy: 0.0014 - val_loss: 0.0012 - val_accuracy: 0.0000e+00\n",
      "Epoch 95/100\n",
      "12/12 [==============================] - 0s 5ms/step - loss: 5.5986e-04 - accuracy: 0.0014 - val_loss: 0.0011 - val_accuracy: 0.0000e+00\n",
      "Epoch 96/100\n",
      "12/12 [==============================] - 0s 6ms/step - loss: 6.9292e-04 - accuracy: 0.0014 - val_loss: 0.0018 - val_accuracy: 0.0000e+00\n",
      "Epoch 97/100\n",
      "12/12 [==============================] - 0s 5ms/step - loss: 8.5028e-04 - accuracy: 0.0014 - val_loss: 0.0017 - val_accuracy: 0.0000e+00\n",
      "Epoch 98/100\n",
      "12/12 [==============================] - 0s 5ms/step - loss: 8.9391e-04 - accuracy: 0.0014 - val_loss: 0.0018 - val_accuracy: 0.0000e+00\n",
      "Epoch 99/100\n",
      "12/12 [==============================] - 0s 6ms/step - loss: 6.3321e-04 - accuracy: 0.0014 - val_loss: 0.0011 - val_accuracy: 0.0000e+00\n",
      "Epoch 100/100\n",
      "12/12 [==============================] - 0s 5ms/step - loss: 4.8233e-04 - accuracy: 0.0014 - val_loss: 0.0012 - val_accuracy: 0.0000e+00\n"
     ]
    }
   ],
   "source": [
    "model = build_model([5,window,1])\n",
    "model.fit(X_train,y_train,batch_size=64,epochs=100,validation_split=0.1,verbose=1)\n",
    "pred = model.predict(X_test)\n"
   ]
  },
  {
   "cell_type": "code",
   "execution_count": 9,
   "metadata": {},
   "outputs": [
    {
     "name": "stdout",
     "output_type": "stream",
     "text": [
      "0.0017939033665817436\n"
     ]
    },
    {
     "data": {
      "image/png": "[encoded data removed]",
      "text/plain": [
       "<matplotlib.figure.Figure at 0x192bd803320>"
      ]
     },
     "metadata": {},
     "output_type": "display_data"
    }
   ],
   "source": [
    "mse_score = mean_squared_error (y_test,pred)\n",
    "print(mse_score)\n",
    "\n",
    "plt.figure(figsize=(20,10))\n",
    "plt.plot(pred)\n",
    "plt.plot(y_test)\n",
    "plt.show()\n",
    "prediction = pd.DataFrame({'pred':pred.reshape(-1),'actual':y_test})\n",
    "prediction.to_csv(rpath+\"\\\\RNN ouput.csv\")\n"
   ]
  },
  {
   "cell_type": "code",
   "execution_count": 11,
   "metadata": {},
   "outputs": [
    {
     "name": "stdout",
     "output_type": "stream",
     "text": [
      "Train Score: 0.00057 MSE (0.02 RMSE)\n",
      "Test Score: 0.00179 MSE (0.04 RMSE)\n"
     ]
    }
   ],
   "source": [
    "def model_score(model, X_train, y_train, X_test, y_test):\n",
    "    trainScore = model.evaluate(X_train, y_train, verbose=0)\n",
    "    print('Train Score: %.5f MSE (%.2f RMSE)' % (trainScore[0], math.sqrt(trainScore[0])))\n",
    "\n",
    "    testScore = model.evaluate(X_test, y_test, verbose=0)\n",
    "    print('Test Score: %.5f MSE (%.2f RMSE)' % (testScore[0], math.sqrt(testScore[0])))\n",
    "    return trainScore[0], testScore[0]\n",
    "\n",
    "_ = model_score(model, X_train, y_train, X_test, y_test)"
   ]
  },
  {
   "cell_type": "markdown",
   "metadata": {},
   "source": [
    "Reference:\n",
    "\n",
    "https://github.com/krishnaik06/Stock-Price-Prediction-using-Keras-and-Recurrent-Neural-Networ/blob/master/rnn.py\n",
    "\n",
    "https://www.kaggle.com/code/benjibb/lstm-stock-prediction-20170507/notebook\n"
   ]
  }
 ],
 "metadata": {
  "kernelspec": {
   "display_name": "Python 3",
   "language": "python",
   "name": "python3"
  },
  "language_info": {
   "codemirror_mode": {
    "name": "ipython",
    "version": 3
   },
   "file_extension": ".py",
   "mimetype": "text/x-python",
   "name": "python",
   "nbconvert_exporter": "python",
   "pygments_lexer": "ipython3",
   "version": "3.6.3"
  }
 },
 "nbformat": 4,
 "nbformat_minor": 2
}
